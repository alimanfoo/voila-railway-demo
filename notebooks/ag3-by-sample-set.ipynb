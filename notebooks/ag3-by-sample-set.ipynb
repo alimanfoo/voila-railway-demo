{
 "cells": [
  {
   "cell_type": "markdown",
   "id": "120243dc-8d6a-408f-bcf9-fbdc02a792ce",
   "metadata": {},
   "source": [
    "# Ag3 by release and sample set"
   ]
  },
  {
   "cell_type": "code",
   "execution_count": null,
   "id": "3f793440-948f-4f36-9553-fad44690c275",
   "metadata": {},
   "outputs": [],
   "source": [
    "import malariagen_data"
   ]
  },
  {
   "cell_type": "code",
   "execution_count": null,
   "id": "9c2e09df-f2d5-4e1d-9864-2e24660d01b7",
   "metadata": {},
   "outputs": [],
   "source": [
    "from IPython.display import HTML"
   ]
  },
  {
   "cell_type": "code",
   "execution_count": null,
   "id": "b5db6f1b-2229-4caf-81e3-364e38c78580",
   "metadata": {},
   "outputs": [],
   "source": [
    "ag3 = malariagen_data.Ag3(pre=True)\n",
    "ag3"
   ]
  },
  {
   "cell_type": "code",
   "execution_count": null,
   "id": "9f1e2d4e-f315-47d2-8fa7-093eab791843",
   "metadata": {},
   "outputs": [],
   "source": [
    "releases = ag3.releases"
   ]
  },
  {
   "cell_type": "code",
   "execution_count": null,
   "id": "d02b2292-3914-4825-b14a-d8648015191a",
   "metadata": {},
   "outputs": [],
   "source": [
    "toc = \"<ul>\"\n",
    "for release in releases:\n",
    "    toc += f\"<li><a href='#release_{release}'>Ag{release}</a><ul>\"\n",
    "    for sample_set in ag3.sample_sets(release=release)[\"sample_set\"]:\n",
    "        toc += f\"<li><a href='#sample_set_{sample_set}'>{sample_set}</a></li>\"\n",
    "    toc += \"</ul></li>\"\n",
    "\n",
    "toc += \"</ul>\"\n",
    "display(HTML(toc))"
   ]
  },
  {
   "cell_type": "code",
   "execution_count": null,
   "id": "1232fc4e-2021-4c95-955b-64879c6bbae0",
   "metadata": {},
   "outputs": [],
   "source": [
    "for release in releases:\n",
    "    display(HTML(f\"<h2 id='release_{release}'>Ag{release}</h2>\"))\n",
    "    for sample_set in ag3.sample_sets(release=release)[\"sample_set\"]:\n",
    "        display(HTML(f\"<h3 id='sample_set_{sample_set}'>{sample_set}</h3>\"))\n",
    "        display(ag3.count_samples(sample_sets=sample_set, index=(\"contributor\", \"study_id\", \"country\", \"admin1_iso\", \"admin1_name\", \"admin2_name\", \"year\")))\n",
    "        display(ag3.plot_samples_interactive_map(sample_sets=sample_set))"
   ]
  },
  {
   "cell_type": "code",
   "execution_count": null,
   "id": "dec52521-32f3-474b-bccf-539053e2726b",
   "metadata": {},
   "outputs": [],
   "source": []
  }
 ],
 "metadata": {
  "kernelspec": {
   "display_name": "Python 3 (ipykernel)",
   "language": "python",
   "name": "python3"
  },
  "language_info": {
   "codemirror_mode": {
    "name": "ipython",
    "version": 3
   },
   "file_extension": ".py",
   "mimetype": "text/x-python",
   "name": "python",
   "nbconvert_exporter": "python",
   "pygments_lexer": "ipython3",
   "version": "3.10.13"
  }
 },
 "nbformat": 4,
 "nbformat_minor": 5
}
