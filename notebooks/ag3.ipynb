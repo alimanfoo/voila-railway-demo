{
 "cells": [
  {
   "cell_type": "code",
   "execution_count": null,
   "id": "1a352da2-f22d-434e-a0c8-8e5e5dc624c6",
   "metadata": {},
   "outputs": [],
   "source": [
    "import malariagen_data\n",
    "import pandas as pd"
   ]
  },
  {
   "cell_type": "code",
   "execution_count": null,
   "id": "b94c090e-83f8-4f2e-9e1a-cf5ae1304ae7",
   "metadata": {},
   "outputs": [],
   "source": [
    "ag3 = malariagen_data.Ag3(pre=True)\n",
    "ag3"
   ]
  },
  {
   "cell_type": "code",
   "execution_count": null,
   "id": "bfc66172-5509-4932-b1fc-a5829791fe2a",
   "metadata": {},
   "outputs": [],
   "source": [
    "ag3.plot_samples_interactive_map()"
   ]
  },
  {
   "cell_type": "code",
   "execution_count": null,
   "id": "1ce52e8e-2682-4e30-8829-694629fa46fe",
   "metadata": {},
   "outputs": [],
   "source": [
    "with pd.option_context(\"display.max_rows\", 1000):\n",
    "    display(ag3.sample_sets())"
   ]
  },
  {
   "cell_type": "code",
   "execution_count": null,
   "id": "65f8beed-68d8-4fd1-b8f3-af55bf781431",
   "metadata": {},
   "outputs": [],
   "source": [
    "with pd.option_context(\"display.max_rows\", 1000):\n",
    "    display(ag3.count_samples())"
   ]
  },
  {
   "cell_type": "code",
   "execution_count": null,
   "id": "a0dad4d0-e3d8-4203-a506-4486aa667fc8",
   "metadata": {},
   "outputs": [],
   "source": []
  }
 ],
 "metadata": {
  "kernelspec": {
   "display_name": "Python 3 (ipykernel)",
   "language": "python",
   "name": "python3"
  },
  "language_info": {
   "codemirror_mode": {
    "name": "ipython",
    "version": 3
   },
   "file_extension": ".py",
   "mimetype": "text/x-python",
   "name": "python",
   "nbconvert_exporter": "python",
   "pygments_lexer": "ipython3",
   "version": "3.10.13"
  }
 },
 "nbformat": 4,
 "nbformat_minor": 5
}
